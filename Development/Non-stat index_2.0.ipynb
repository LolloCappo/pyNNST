{
 "cells": [
  {
   "cell_type": "code",
   "execution_count": 1,
   "metadata": {},
   "outputs": [],
   "source": [
    "import numpy as np\n",
    "import matplotlib.pyplot as plt"
   ]
  },
  {
   "cell_type": "code",
   "execution_count": 2,
   "metadata": {},
   "outputs": [],
   "source": [
    "f_sample = 400\n",
    "T = 20"
   ]
  },
  {
   "cell_type": "code",
   "execution_count": 58,
   "metadata": {},
   "outputs": [
    {
     "name": "stderr",
     "output_type": "stream",
     "text": [
      "C:\\Users\\Lorenzo\\Anaconda3\\lib\\site-packages\\ipykernel_launcher.py:3: DeprecationWarning: object of type <class 'float'> cannot be safely interpreted as an integer.\n",
      "  This is separate from the ipykernel package so we can avoid doing imports until\n",
      "C:\\Users\\Lorenzo\\Anaconda3\\lib\\site-packages\\ipykernel_launcher.py:4: DeprecationWarning: object of type <class 'float'> cannot be safely interpreted as an integer.\n",
      "  after removing the cwd from sys.path.\n"
     ]
    }
   ],
   "source": [
    "#data = np.load('data.npy')\n",
    "time = np.linspace(0,T-1/f_sample,T*f_sample)\n",
    "time_1 = np.linspace(0,T/2-1/f_sample,T*f_sample/2)\n",
    "time_2 = np.linspace(T/2,T-1/f_sample,T*f_sample/2)\n",
    "data_1 = 2 * np.sin(2*np.pi*time_1*1)\n",
    "data_2 = 4 * np.sin(2*np.pi*time_2*1)"
   ]
  },
  {
   "cell_type": "code",
   "execution_count": 59,
   "metadata": {},
   "outputs": [],
   "source": [
    "data = np.empty(0)\n",
    "data = np.append(data,[data_1, data_2])"
   ]
  },
  {
   "cell_type": "code",
   "execution_count": 78,
   "metadata": {},
   "outputs": [],
   "source": [
    "signal = data\n",
    "nsec = 1\n",
    "overlap = 0\n",
    "sampling_freq = 400\n",
    "confidence = 99"
   ]
  },
  {
   "cell_type": "code",
   "execution_count": 79,
   "metadata": {},
   "outputs": [],
   "source": [
    "ent_stdv = np.std(signal)\n",
    "ent_mean = np.mean(signal)"
   ]
  },
  {
   "cell_type": "code",
   "execution_count": 80,
   "metadata": {},
   "outputs": [
    {
     "data": {
      "text/plain": [
       "2.23606797749979"
      ]
     },
     "execution_count": 80,
     "metadata": {},
     "output_type": "execute_result"
    }
   ],
   "source": [
    "ent_stdv"
   ]
  },
  {
   "cell_type": "code",
   "execution_count": 81,
   "metadata": {},
   "outputs": [
    {
     "data": {
      "text/plain": [
       "-1.3500311979441903e-16"
      ]
     },
     "execution_count": 81,
     "metadata": {},
     "output_type": "execute_result"
    }
   ],
   "source": [
    "ent_mean"
   ]
  },
  {
   "cell_type": "code",
   "execution_count": 82,
   "metadata": {},
   "outputs": [],
   "source": [
    "coeff = [1.645, 1.96, 2.326, 2.576]\n",
    "conf = [90,95,98,99]\n",
    "sigma = coeff[conf.index(confidence)]"
   ]
  },
  {
   "cell_type": "code",
   "execution_count": 83,
   "metadata": {},
   "outputs": [
    {
     "data": {
      "text/plain": [
       "2.576"
      ]
     },
     "execution_count": 83,
     "metadata": {},
     "output_type": "execute_result"
    }
   ],
   "source": [
    "sigma"
   ]
  },
  {
   "cell_type": "code",
   "execution_count": 84,
   "metadata": {},
   "outputs": [],
   "source": [
    "w_point = int(sampling_freq * nsec) # Number of point for each window\n",
    "lap = int(w_point * overlap)        # Number of point overlapped\n",
    "L = len(signal)                     # length of the signal\n",
    "dist = w_point - lap                # Number of point for each compartment\n",
    "cmp = int(np.floor(L/(dist)))       # Number of compartment"
   ]
  },
  {
   "cell_type": "code",
   "execution_count": 85,
   "metadata": {},
   "outputs": [
    {
     "data": {
      "text/plain": [
       "400"
      ]
     },
     "execution_count": 85,
     "metadata": {},
     "output_type": "execute_result"
    }
   ],
   "source": [
    "w_point"
   ]
  },
  {
   "cell_type": "code",
   "execution_count": 86,
   "metadata": {},
   "outputs": [],
   "source": [
    "stdv = np.empty(cmp)\n",
    "cls = np.empty((cmp,dist))"
   ]
  },
  {
   "cell_type": "code",
   "execution_count": 87,
   "metadata": {},
   "outputs": [],
   "source": [
    "for i in range(0,cmp):\n",
    "    cls[i] = signal[i*dist:i*dist+dist]\n",
    "    stdv[i] = np.std(cls[i])\n",
    "        \n",
    "if L % dist != 0:\n",
    "    res_cmp = signal[cmp*dist+1:]\n",
    "    stdv = np.append(stdv, np.std(res_cmp))\n",
    "else:\n",
    "    pass"
   ]
  },
  {
   "cell_type": "code",
   "execution_count": 88,
   "metadata": {},
   "outputs": [],
   "source": [
    "## Definition of boundaries\n",
    "boundUP = ent_stdv + np.std(stdv)\n",
    "boundDW = ent_stdv - np.std(stdv)"
   ]
  },
  {
   "cell_type": "code",
   "execution_count": 89,
   "metadata": {},
   "outputs": [],
   "source": [
    "run = np.empty(0)\n",
    "\n",
    "for i in range(0,stdv.shape[0]):\n",
    "    if stdv[i] > boundUP or stdv[i] < boundDW:\n",
    "        run = np.append(run,1)\n",
    "    else:\n",
    "        run = np.append(run,0)"
   ]
  },
  {
   "cell_type": "code",
   "execution_count": 90,
   "metadata": {},
   "outputs": [
    {
     "data": {
      "text/plain": [
       "array([1., 1., 1., 1., 1., 1., 1., 1., 1., 1., 0., 0., 0., 0., 0., 0., 0.,\n",
       "       0., 0., 0.])"
      ]
     },
     "execution_count": 90,
     "metadata": {},
     "output_type": "execute_result"
    }
   ],
   "source": [
    "run"
   ]
  },
  {
   "cell_type": "code",
   "execution_count": 91,
   "metadata": {},
   "outputs": [],
   "source": [
    "ones = np.empty(0)\n",
    "zeros = np.empty(0)"
   ]
  },
  {
   "cell_type": "code",
   "execution_count": 92,
   "metadata": {},
   "outputs": [
    {
     "data": {
      "text/plain": [
       "0"
      ]
     },
     "execution_count": 92,
     "metadata": {},
     "output_type": "execute_result"
    }
   ],
   "source": [
    "Nr"
   ]
  },
  {
   "cell_type": "code",
   "execution_count": 93,
   "metadata": {},
   "outputs": [],
   "source": [
    "for i in range(0,run.shape[0]):\n",
    "    if run[i] == 1.:\n",
    "        ones = np.append(ones, run[i])\n",
    "    else:\n",
    "        zeros = np.append(zeros, run[i])\n",
    "        \n",
    "N1 = len(ones)\n",
    "N0 = len(zeros)\n",
    "Nr = 0\n",
    "N = N1 + N0\n",
    "\n",
    "for i in range(1,run.shape[0]):\n",
    "    if run[i] != run[i-1]:\n",
    "        Nr += 1\n",
    "    else:\n",
    "        continue\n",
    "\n",
    "## Definition of expected runs and of the variance of their distribution \n",
    "mean_val = (2 * N1 * N0) / N + 1\n",
    "var = (2 * N1 * N0 * (2 * N1 * N0 - N)) / (N**2 * (N - 1))\n",
    "\n",
    "## Definition of limits\n",
    "lim_up = mean_val + sigma * np.sqrt(var)\n",
    "lim_dw = mean_val - sigma * np.sqrt(var)\n",
    "\n",
    "ind_up = np.round(100 * lim_up / mean_val, 3)\n",
    "ind_dw = np.round(100 * lim_dw / mean_val, 3)\n",
    "\n",
    "\n",
    "## True == Stationary & False == Non-stationary\n",
    "if Nr >= lim_dw and Nr <= lim_up:\n",
    "    bns = True\n",
    "else:\n",
    "    bns = False\n",
    "## Index of non-stationary\n",
    "index = 100 * Nr / mean_val \n",
    "if index > 100:\n",
    "    index = 100\n",
    "else:\n",
    "    index = np.round(index,2)\n",
    "    \n",
    "nnst = {'index': index, 'bns':bns, 'ind_dw':ind_dw, 'ind_up':ind_up}"
   ]
  },
  {
   "cell_type": "code",
   "execution_count": 94,
   "metadata": {},
   "outputs": [
    {
     "data": {
      "text/plain": [
       "{'index': 9.09, 'bns': False, 'ind_dw': 49.032, 'ind_up': 150.968}"
      ]
     },
     "execution_count": 94,
     "metadata": {},
     "output_type": "execute_result"
    }
   ],
   "source": [
    "nnst"
   ]
  },
  {
   "cell_type": "code",
   "execution_count": 95,
   "metadata": {},
   "outputs": [
    {
     "data": {
      "text/plain": [
       "11.0"
      ]
     },
     "execution_count": 95,
     "metadata": {},
     "output_type": "execute_result"
    }
   ],
   "source": [
    "mean_val"
   ]
  },
  {
   "cell_type": "code",
   "execution_count": 96,
   "metadata": {},
   "outputs": [
    {
     "data": {
      "text/plain": [
       "10"
      ]
     },
     "execution_count": 96,
     "metadata": {},
     "output_type": "execute_result"
    }
   ],
   "source": [
    "N0"
   ]
  },
  {
   "cell_type": "code",
   "execution_count": 97,
   "metadata": {},
   "outputs": [
    {
     "data": {
      "text/plain": [
       "16.60648046085017"
      ]
     },
     "execution_count": 97,
     "metadata": {},
     "output_type": "execute_result"
    }
   ],
   "source": [
    "lim_up"
   ]
  },
  {
   "cell_type": "code",
   "execution_count": 98,
   "metadata": {},
   "outputs": [
    {
     "data": {
      "text/plain": [
       "5.39351953914983"
      ]
     },
     "execution_count": 98,
     "metadata": {},
     "output_type": "execute_result"
    }
   ],
   "source": [
    "lim_dw"
   ]
  },
  {
   "cell_type": "code",
   "execution_count": 99,
   "metadata": {},
   "outputs": [
    {
     "data": {
      "text/plain": [
       "49.031995810453004"
      ]
     },
     "execution_count": 99,
     "metadata": {},
     "output_type": "execute_result"
    }
   ],
   "source": [
    "100 * lim_dw / mean_val"
   ]
  },
  {
   "cell_type": "code",
   "execution_count": 100,
   "metadata": {},
   "outputs": [
    {
     "data": {
      "text/plain": [
       "11.0"
      ]
     },
     "execution_count": 100,
     "metadata": {},
     "output_type": "execute_result"
    }
   ],
   "source": [
    "mean_val"
   ]
  },
  {
   "cell_type": "code",
   "execution_count": 102,
   "metadata": {},
   "outputs": [
    {
     "data": {
      "text/plain": [
       "[<matplotlib.lines.Line2D at 0x205ee5a88c8>]"
      ]
     },
     "execution_count": 102,
     "metadata": {},
     "output_type": "execute_result"
    },
    {
     "data": {
      "image/png": "[encoded data removed]",
      "text/plain": [
       "<Figure size 432x288 with 1 Axes>"
      ]
     },
     "metadata": {
      "needs_background": "light"
     },
     "output_type": "display_data"
    }
   ],
   "source": [
    "plt.plot(time,data)\n",
    "plt.plot(time,np.linspace(np.mean(data),np.mean(data),T*f_sample))\n",
    "plt.plot(time,np.linspace(np.mean(data)+np.std(data),np.mean(data)+np.std(data),T*f_sample))\n",
    "plt.plot(time,np.linspace(np.mean(data)+boundUP,np.mean(data)+boundUP,T*f_sample))\n",
    "plt.plot(time,np.linspace(np.mean(data)+boundDW,np.mean(data)+boundDW,T*f_sample))\n",
    "plt.plot(np.linspace(0,20,20),np.mean(data)+stdv)"
   ]
  },
  {
   "cell_type": "code",
   "execution_count": null,
   "metadata": {},
   "outputs": [],
   "source": []
  }
 ],
 "metadata": {
  "kernelspec": {
   "display_name": "Python 3",
   "language": "python",
   "name": "python3"
  },
  "language_info": {
   "codemirror_mode": {
    "name": "ipython",
    "version": 3
   },
   "file_extension": ".py",
   "mimetype": "text/x-python",
   "name": "python",
   "nbconvert_exporter": "python",
   "pygments_lexer": "ipython3",
   "version": "3.7.4"
  }
 },
 "nbformat": 4,
 "nbformat_minor": 2
}
