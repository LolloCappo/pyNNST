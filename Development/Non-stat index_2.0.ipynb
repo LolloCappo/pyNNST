{
 "cells": [
  {
   "cell_type": "code",
   "execution_count": 1,
   "metadata": {},
   "outputs": [],
   "source": [
    "import numpy as np\n",
    "import matplotlib.pyplot as plt\n",
    "import scipy.io"
   ]
  },
  {
   "cell_type": "code",
   "execution_count": 114,
   "metadata": {},
   "outputs": [],
   "source": [
    "filename = 'C:/Users/Lorenzo/Documents/Lubiana/Nnst/Data/camera44.npy'\n",
    "data = np.load(filename)"
   ]
  },
  {
   "cell_type": "code",
   "execution_count": 115,
   "metadata": {},
   "outputs": [],
   "source": [
    "#scipy.io.savemat('vert44.mat', {'data': avg})"
   ]
  },
  {
   "cell_type": "code",
   "execution_count": 116,
   "metadata": {},
   "outputs": [],
   "source": [
    "(x, y, w, h) = 38, 78, 5, 5 # vert mode area\n",
    "#(x, y, w, h) = 29, 84, 5, 5 # hor mode area"
   ]
  },
  {
   "cell_type": "code",
   "execution_count": 117,
   "metadata": {},
   "outputs": [],
   "source": [
    "cut = data[:,y:(y+h),x:(x+w)]\n",
    "avg = np.mean(cut, axis = (1,2))"
   ]
  },
  {
   "cell_type": "code",
   "execution_count": 118,
   "metadata": {},
   "outputs": [],
   "source": [
    "signal = avg"
   ]
  },
  {
   "cell_type": "code",
   "execution_count": 119,
   "metadata": {},
   "outputs": [],
   "source": [
    "sampling_freq = 400\n",
    "nsec = 0.05\n",
    "overlap = 0 \n",
    "confidence = 95"
   ]
  },
  {
   "cell_type": "code",
   "execution_count": 120,
   "metadata": {},
   "outputs": [],
   "source": [
    "ent_stdv = np.std(signal)\n",
    "\n",
    "coeff = [1.645, 1.96, 2.326, 2.576]\n",
    "conf = [90,95,98,99]\n",
    "sigma = coeff[conf.index(confidence)]\n",
    "\n",
    "w_point = int(sampling_freq * nsec) # Number of point for each window\n",
    "lap = int(w_point * overlap)        # Number of point overlapped\n",
    "L = len(signal)                     # length of the signal\n",
    "dist = w_point - lap                # Number of point for each compartment\n",
    "cmp = int(np.floor(L/(dist)))       # Number of compartment\n",
    "\n",
    "stdv = np.empty(cmp)\n",
    "cls = np.empty((cmp,dist))\n",
    "\n",
    "for i in range(0,cmp):\n",
    "    cls[i] = signal[i*dist:i*dist+dist]\n",
    "    stdv[i] = np.std(cls[i])\n",
    "        \n",
    "if L % dist != 0:\n",
    "    res_cmp = signal[cmp*dist+1:]\n",
    "    stdv = np.append(stdv, np.std(res_cmp))\n",
    "else:\n",
    "    pass\n",
    "\n",
    "## Definition of boundaries\n",
    "boundUP = ent_stdv + np.std(stdv)\n",
    "boundDW = ent_stdv - np.std(stdv)\n",
    "\n",
    "run = np.empty(0)\n",
    "\n",
    "for i in range(0,stdv.shape[0]):\n",
    "    if stdv[i] > boundUP or stdv[i] < boundDW:\n",
    "        run = np.append(run,1)\n",
    "    else:\n",
    "        run = np.append(run,0)\n",
    "        \n",
    "N1 = 0\n",
    "N0 = 0\n",
    "\n",
    "for i in range(0,len(run)):\n",
    "    if run[i] == 1.:\n",
    "        N1 += 1\n",
    "    else:\n",
    "        N0 += 1\n",
    "        \n",
    "N = N1 + N0\n",
    "Nr = 0\n",
    "\n",
    "for i in range(1,len(run)):\n",
    "    if run[i] != run[i-1]:\n",
    "        Nr += 1\n",
    "        \n",
    "## Definition of expected runs and of the variance of their distribution \n",
    "mean_val = (2 * N1 * N0) / N + 1\n",
    "var = (2 * N1 * N0 * (2 * N1 * N0 - N)) / (N**2 * (N - 1))\n",
    "\n",
    "## Definition of limits\n",
    "lim_up = mean_val + sigma * np.sqrt(var)\n",
    "lim_dw = mean_val - sigma * np.sqrt(var)\n",
    "\n",
    "index_up = np.round(100 * lim_up / mean_val, 3)\n",
    "index_dw = np.round(100 * lim_dw / mean_val, 3)\n",
    "\n",
    "## True == Stationary & False == Non-stationary\n",
    "if Nr >= lim_dw and Nr <= lim_up:\n",
    "    bns = True\n",
    "else:\n",
    "    bns = False\n",
    "    \n",
    "## Index of non-stationary\n",
    "index = 100 * Nr / mean_val \n",
    "if index > 100:\n",
    "    index = 100\n",
    "else:\n",
    "    index = np.round(index,2)\n",
    "    \n",
    "nnst = {'index': index, 'bns':bns, 'ind_dw':index_dw, 'ind_up':index_up}"
   ]
  },
  {
   "cell_type": "code",
   "execution_count": 121,
   "metadata": {},
   "outputs": [],
   "source": [
    "#%matplotlib notebook\n",
    "#plt.plot(time,signal)\n",
    "#plt.plot(np.linspace(0,20,cmp),np.mean(signal)+stdv, label = 'std(cluster)')\n",
    "#plt.plot(time,np.linspace(np.mean(signal)+np.std(signal),np.mean(signal)+np.std(signal),T*f_sample), label = 'std')\n",
    "#plt.plot(time,np.linspace(np.mean(signal)+boundUP,np.mean(signal)+boundUP,T*f_sample),'--', label = 'boundUP')\n",
    "#plt.plot(time,np.linspace(np.mean(signal)+boundDW,np.mean(signal)+boundDW,T*f_sample),'--', label = 'boundDW')\n",
    "#plt.plot(time,np.linspace(np.mean(signal),np.mean(signal),T*f_sample), label = 'mean')\n",
    "#plt.legend()"
   ]
  },
  {
   "cell_type": "code",
   "execution_count": 122,
   "metadata": {},
   "outputs": [
    {
     "data": {
      "text/plain": [
       "{'index': 74.31, 'bns': False, 'ind_dw': 90.264, 'ind_up': 109.736}"
      ]
     },
     "execution_count": 122,
     "metadata": {},
     "output_type": "execute_result"
    }
   ],
   "source": [
    "nnst"
   ]
  },
  {
   "cell_type": "code",
   "execution_count": 106,
   "metadata": {},
   "outputs": [
    {
     "data": {
      "text/plain": [
       "0.06921533976630606"
      ]
     },
     "execution_count": 106,
     "metadata": {},
     "output_type": "execute_result"
    }
   ],
   "source": [
    "boundUP"
   ]
  },
  {
   "cell_type": "code",
   "execution_count": 107,
   "metadata": {},
   "outputs": [
    {
     "data": {
      "text/plain": [
       "0.02963767464323603"
      ]
     },
     "execution_count": 107,
     "metadata": {},
     "output_type": "execute_result"
    }
   ],
   "source": [
    "boundDW"
   ]
  },
  {
   "cell_type": "code",
   "execution_count": 108,
   "metadata": {},
   "outputs": [
    {
     "data": {
      "text/plain": [
       "340"
      ]
     },
     "execution_count": 108,
     "metadata": {},
     "output_type": "execute_result"
    }
   ],
   "source": [
    "Nr"
   ]
  },
  {
   "cell_type": "code",
   "execution_count": 109,
   "metadata": {},
   "outputs": [
    {
     "data": {
      "text/plain": [
       "1109"
      ]
     },
     "execution_count": 109,
     "metadata": {},
     "output_type": "execute_result"
    }
   ],
   "source": [
    "N1"
   ]
  },
  {
   "cell_type": "code",
   "execution_count": 110,
   "metadata": {},
   "outputs": [
    {
     "data": {
      "text/plain": [
       "2000"
      ]
     },
     "execution_count": 110,
     "metadata": {},
     "output_type": "execute_result"
    }
   ],
   "source": [
    "N"
   ]
  },
  {
   "cell_type": "code",
   "execution_count": 111,
   "metadata": {},
   "outputs": [
    {
     "data": {
      "text/plain": [
       "891"
      ]
     },
     "execution_count": 111,
     "metadata": {},
     "output_type": "execute_result"
    }
   ],
   "source": [
    "N0"
   ]
  },
  {
   "cell_type": "code",
   "execution_count": 112,
   "metadata": {},
   "outputs": [
    {
     "data": {
      "text/plain": [
       "989.119"
      ]
     },
     "execution_count": 112,
     "metadata": {},
     "output_type": "execute_result"
    }
   ],
   "source": [
    "mean_val"
   ]
  },
  {
   "cell_type": "code",
   "execution_count": 113,
   "metadata": {},
   "outputs": [
    {
     "data": {
      "text/plain": [
       "0.049426507"
      ]
     },
     "execution_count": 113,
     "metadata": {},
     "output_type": "execute_result"
    }
   ],
   "source": [
    "ent_stdv"
   ]
  },
  {
   "cell_type": "code",
   "execution_count": 34,
   "metadata": {},
   "outputs": [
    {
     "data": {
      "text/plain": [
       "456.6227663831916"
      ]
     },
     "execution_count": 34,
     "metadata": {},
     "output_type": "execute_result"
    }
   ],
   "source": [
    "var"
   ]
  },
  {
   "cell_type": "code",
   "execution_count": 35,
   "metadata": {},
   "outputs": [
    {
     "data": {
      "text/plain": [
       "0.014443775"
      ]
     },
     "execution_count": 35,
     "metadata": {},
     "output_type": "execute_result"
    }
   ],
   "source": [
    "ent_stdv"
   ]
  },
  {
   "cell_type": "code",
   "execution_count": 36,
   "metadata": {},
   "outputs": [
    {
     "data": {
      "text/plain": [
       "2000"
      ]
     },
     "execution_count": 36,
     "metadata": {},
     "output_type": "execute_result"
    }
   ],
   "source": [
    "cmp"
   ]
  },
  {
   "cell_type": "code",
   "execution_count": 37,
   "metadata": {},
   "outputs": [
    {
     "data": {
      "text/plain": [
       "(2000, 4)"
      ]
     },
     "execution_count": 37,
     "metadata": {},
     "output_type": "execute_result"
    }
   ],
   "source": [
    "cls.shape"
   ]
  },
  {
   "cell_type": "code",
   "execution_count": null,
   "metadata": {},
   "outputs": [],
   "source": []
  }
 ],
 "metadata": {
  "kernelspec": {
   "display_name": "Python 3",
   "language": "python",
   "name": "python3"
  },
  "language_info": {
   "codemirror_mode": {
    "name": "ipython",
    "version": 3
   },
   "file_extension": ".py",
   "mimetype": "text/x-python",
   "name": "python",
   "nbconvert_exporter": "python",
   "pygments_lexer": "ipython3",
   "version": "3.7.4"
  }
 },
 "nbformat": 4,
 "nbformat_minor": 2
}
