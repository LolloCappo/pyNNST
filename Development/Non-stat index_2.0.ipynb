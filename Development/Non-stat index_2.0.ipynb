{
 "cells": [
  {
   "cell_type": "code",
   "execution_count": 5,
   "metadata": {},
   "outputs": [],
   "source": [
    "__version__ = '0.2'\n",
    "\n",
    "import numpy as np\n",
    "import matplotlib.pyplot as plt\n",
    "\n",
    "def idns(signal, nsec, sampling_freq, overlap, confidence, plot_res):\n",
    "\n",
    "    \"\"\"\n",
    "    Function to determine the index of non-stationarity of a time series:\n",
    "        \n",
    "    Arguments:\n",
    "        signal {numpy array} --  Numpy array of the time series\n",
    "        nsec {float} -- Time lenght of moving window (minimum value = 2/sampling_freq)\n",
    "        sampling_freq {int} -- Sampling frequency of the time series\n",
    "        overlap {float} -- Overlap between windows [0 - 1]\n",
    "        confidence {int} -- Confidence: 90% - 95% - 98% - 99% \n",
    "        plot_res {boolean} -- True for plot results, False for no plot\n",
    "    \n",
    "    Returns:\n",
    "        Dictionary: \n",
    "            index {float} -- Index of non-stationarity\n",
    "                             0 [%] --> Non-stationary\n",
    "                             100 [%] --> Stationary\n",
    "            bns {string} -- Stationary or non-stationary\n",
    "            ind_dw {float} -- Lower limit of stationary [%]\n",
    "            ind_up {float} -- Upper limit of stationary [%]\n",
    "    \"\"\"\n",
    "            \n",
    "    ## Confidence interval\n",
    "    coeff = [1.645, 1.96, 2.326, 2.576]\n",
    "    conf = [90, 95, 98, 99]\n",
    "    alpha = coeff[conf.index(confidence)]\n",
    "\n",
    "    ## Windowing\n",
    "    T = len(signal) / sampling_freq - 1 / sampling_freq\n",
    "    time = np.linspace(0, T, len(signal))\n",
    "    ent_stdv = np.std(signal, ddof = 0) # Standard deviation of entire signal\n",
    "    w_point = int(sampling_freq * nsec) # Number of point for each window\n",
    "    lap = int(w_point * overlap)        # Number of point overlapped\n",
    "    L = len(signal)                     # length of the signal\n",
    "    dist = w_point - lap                # Number of point for each compartment\n",
    "    cmp = int(np.floor(L / dist))       # Number of compartment\n",
    "\n",
    "    ## Boundaries\n",
    "    stdv = np.empty(cmp)\n",
    "    cls = np.empty((cmp, dist))\n",
    "\n",
    "    for i in range(0,cmp):\n",
    "        cls[i] = signal[i*dist:i*dist+dist]\n",
    "        stdv[i] = np.std(cls[i], ddof = 1)\n",
    "        \n",
    "    if L % dist != 0:\n",
    "        res_cmp = signal[cmp*dist+1:]\n",
    "        stdv = np.append(stdv, np.std(res_cmp, ddof = 1))\n",
    "    \n",
    "    cls_std = np.std(stdv, ddof = 0)\n",
    "\n",
    "    boundUP = ent_stdv + cls_std\n",
    "    boundDW = ent_stdv - cls_std\n",
    "\n",
    "\n",
    "    ## Run computation\n",
    "    run = np.empty(0)\n",
    "    N1 = 0\n",
    "    N0 = 0\n",
    "\n",
    "    for i in range(0, stdv.shape[0]):\n",
    "        if stdv[i] > boundUP or stdv[i] < boundDW:\n",
    "            run = np.append(run, 1)\n",
    "        else:\n",
    "            run = np.append(run, 0)\n",
    "\n",
    "    for i in range(0, len(run)):\n",
    "        if run[i] == 1.:\n",
    "            N1 += 1\n",
    "        else:\n",
    "            N0 += 1\n",
    "        \n",
    "    N = N1 + N0\n",
    "    Nr = 0\n",
    "\n",
    "    for i in range(1, len(run)):\n",
    "        if run[i] != run[i-1]:\n",
    "            Nr += 1\n",
    "\n",
    "    ## Stationary limits \n",
    "    mean_val = (2 * N1 * N0) / N + 1\n",
    "    var = (2 * N1 * N0 * (2 * N1 * N0 - N)) / (N**2 * (N - 1))\n",
    "\n",
    "    lim_up = mean_val + alpha * np.sqrt(var)\n",
    "    index_up = np.round(100 * lim_up / mean_val, 3)\n",
    "    lim_dw = mean_val - alpha * np.sqrt(var)\n",
    "    index_dw = np.round(100 * lim_dw / mean_val, 3)\n",
    "\n",
    "    if Nr >= lim_dw and Nr <= lim_up:   \n",
    "        bns = 'Stationary'\n",
    "    else:\n",
    "        bns = 'Non-stationary' \n",
    "    \n",
    "    ## Index of non-stationary\n",
    "    index = 100 * Nr / mean_val  \n",
    "    if index > 100:\n",
    "        index = 100\n",
    "    else:\n",
    "        index = np.round(index,2)\n",
    "    \n",
    "    nnst = {'index': index, 'bns':bns, 'ind_dw':index_dw, 'ind_up':index_up}\n",
    "\n",
    "    if plot_res == True:\n",
    "        plt.figure()\n",
    "        plt.plot(time,signal, color = 'darkgray', zorder = 2, label = 'Signal')\n",
    "        plt.hlines(np.mean(signal)+ent_stdv, 0, T, colors='C1', linestyles='solid', zorder = 4, label = 'Standard deviation')\n",
    "        plt.plot(np.linspace(0,T,len(stdv)),np.mean(signal)+stdv, color = 'C0', zorder = 3, label = 'Standard deviation windows')\n",
    "        plt.hlines(np.mean(signal) + boundUP, 0, T, colors='C3', linestyles='dashed', zorder = 5, label = 'Boundaries')\n",
    "        plt.hlines(np.mean(signal) + boundDW, 0, T, colors='C3', linestyles='dashed', zorder = 6)\n",
    "        plt.legend(loc=4)\n",
    "        plt.grid(zorder = 1)\n",
    "        plt.xlim([0,T])\n",
    "        plt.xlabel('Time [s]')\n",
    "        plt.ylabel('Amplitude [\\]')\n",
    "        plt.show()\n",
    "        \n",
    "    return nnst"
   ]
  },
  {
   "cell_type": "code",
   "execution_count": 15,
   "metadata": {},
   "outputs": [],
   "source": [
    "data = np.load('C:/Users/Lorenzo/Documents/Lubiana/Nnst/Data/camera11.npy')"
   ]
  },
  {
   "cell_type": "code",
   "execution_count": 26,
   "metadata": {},
   "outputs": [],
   "source": [
    "signal = data[:,30,35]\n",
    "nsec =0.004\n",
    "sampling_freq = 400\n",
    "overlap = 0 \n",
    "confidence = 95\n",
    "Plot = True"
   ]
  },
  {
   "cell_type": "code",
   "execution_count": 27,
   "metadata": {},
   "outputs": [
    {
     "name": "stderr",
     "output_type": "stream",
     "text": [
      "C:\\Users\\Lorenzo\\Anaconda3\\lib\\site-packages\\numpy\\core\\_methods.py:140: RuntimeWarning: Degrees of freedom <= 0 for slice\n",
      "  keepdims=keepdims)\n",
      "C:\\Users\\Lorenzo\\Anaconda3\\lib\\site-packages\\numpy\\core\\_methods.py:132: RuntimeWarning: invalid value encountered in double_scalars\n",
      "  ret = ret.dtype.type(ret / rcount)\n"
     ]
    },
    {
     "data": {
      "image/png": "[encoded data removed]",
      "text/plain": [
       "<Figure size 432x288 with 1 Axes>"
      ]
     },
     "metadata": {
      "needs_background": "light"
     },
     "output_type": "display_data"
    },
    {
     "data": {
      "text/plain": [
       "{'index': 0.0, 'bns': 'Non-stationary', 'ind_dw': 100.0, 'ind_up': 100.0}"
      ]
     },
     "execution_count": 27,
     "metadata": {},
     "output_type": "execute_result"
    }
   ],
   "source": [
    "idns(signal, nsec, sampling_freq, overlap, confidence, Plot)"
   ]
  },
  {
   "cell_type": "code",
   "execution_count": null,
   "metadata": {},
   "outputs": [],
   "source": []
  }
 ],
 "metadata": {
  "kernelspec": {
   "display_name": "Python 3",
   "language": "python",
   "name": "python3"
  },
  "language_info": {
   "codemirror_mode": {
    "name": "ipython",
    "version": 3
   },
   "file_extension": ".py",
   "mimetype": "text/x-python",
   "name": "python",
   "nbconvert_exporter": "python",
   "pygments_lexer": "ipython3",
   "version": "3.7.4"
  }
 },
 "nbformat": 4,
 "nbformat_minor": 2
}
