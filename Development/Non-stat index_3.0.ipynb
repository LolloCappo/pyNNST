{
 "cells": [
  {
   "cell_type": "code",
   "execution_count": 1,
   "metadata": {},
   "outputs": [],
   "source": [
    "__version__ = '0.3'\n",
    "\n",
    "import numpy as np\n",
    "import matplotlib.pyplot as plt\n",
    "#\n",
    "#def idns(signal, nsec, sampling_freq, overlap, confidence, plot_res):\n",
    "#\n",
    "  #  \"\"\"\n",
    "  #  Function to determine the index of non-stationarity of a time series:\n",
    "  #      \n",
    "  #  Arguments:\n",
    "  #      signal {numpy array} --  Numpy array of the time series\n",
    "  #      nsec {float} -- Time lenght of moving window (minimum value = 2/sampling_freq)\n",
    "  #      sampling_freq {int} -- Sampling frequency of the time series\n",
    "  #      overlap {float} -- Overlap between windows [0 - 1]\n",
    "  #      confidence {int} -- Confidence: 90% - 95% - 98% - 99% \n",
    "  #      plot_res {boolean} -- True for plot results, False for no plot\n",
    "  #  \n",
    "  #  Returns:\n",
    "  #      Dictionary: \n",
    "  #          index {float} -- Index of non-stationarity\n",
    "  #                           0 [%] --> Non-stationary\n",
    "  #                           100 [%] --> Stationary\n",
    "  #          bns {string} -- Stationary or non-stationary\n",
    "  #          ind_dw {float} -- Lower limit of stationary [%]\n",
    "  #          ind_up {float} -- Upper limit of stationary [%]\n",
    "  #  \"\"\"\n",
    "  #          \n",
    "  #  ## Confidence interval\n",
    "  #  coeff = [1.645, 1.96, 2.326, 2.576]\n",
    "  #  conf = [90, 95, 98, 99]\n",
    "  #  alpha = coeff[conf.index(confidence)]\n",
    "#\n",
    "  #  ## Windowing\n",
    "  #  T = len(signal) / sampling_freq - 1 / sampling_freq\n",
    "  #  time = np.linspace(0, T, len(signal))\n",
    "  #  ent_stdv = np.std(signal, ddof = 0) # Standard deviation of entire signal\n",
    "  #  w_point = int(sampling_freq * nsec) # Number of point for each window\n",
    "  #  lap = int(w_point * overlap)        # Number of point overlapped\n",
    "  #  L = len(signal)                     # length of the signal\n",
    "  #  dist = w_point - lap                # Number of point for each compartment\n",
    "  #  cmp = int(np.floor(L / dist))       # Number of compartment\n",
    "#\n",
    "  #  ## Boundaries\n",
    "  #  stdv = np.empty(cmp)\n",
    "  #  cls = np.empty((cmp, dist))\n",
    "#\n",
    "  #  for i in range(0,cmp):\n",
    "  #      cls[i] = signal[i*dist:i*dist+dist]\n",
    "  #      stdv[i] = np.std(cls[i], ddof = 1)\n",
    "  #      \n",
    "  #  if L % dist != 0:\n",
    "  #      res_cmp = signal[cmp*dist+1:]\n",
    "  #      stdv = np.append(stdv, np.std(res_cmp, ddof = 1))\n",
    "  #  \n",
    "  #  cls_std = np.std(stdv, ddof = 0)\n",
    "#\n",
    "  #  boundUP = ent_stdv + cls_std\n",
    "  #  boundDW = ent_stdv - cls_std\n",
    "#\n",
    "#\n",
    "  #  ## Run computation\n",
    "  #  run = np.empty(0)\n",
    "  #  N1 = 0\n",
    "  #  N0 = 0\n",
    "#\n",
    "  #  for i in range(0, stdv.shape[0]):\n",
    "  #      if stdv[i] > boundUP or stdv[i] < boundDW:\n",
    "  #          run = np.append(run, 1)\n",
    "  #      else:\n",
    "  #          run = np.append(run, 0)\n",
    "#\n",
    "  #  for i in range(0, len(run)):\n",
    "  #      if run[i] == 1.:\n",
    "  #          N1 += 1\n",
    "  #      else:\n",
    "  #          N0 += 1\n",
    "  #      \n",
    "  #  N = N1 + N0\n",
    "  #  Nr = 0\n",
    "#\n",
    "  #  for i in range(1, len(run)):\n",
    "  #      if run[i] != run[i-1]:\n",
    "  #          Nr += 1\n",
    "#\n",
    "  #  ## Stationary limits \n",
    "  #  mean_val = (2 * N1 * N0) / N + 1\n",
    "  #  var = (2 * N1 * N0 * (2 * N1 * N0 - N)) / (N**2 * (N - 1))\n",
    "#\n",
    "  #  lim_up = mean_val + alpha * np.sqrt(var)\n",
    "  #  index_up = np.round(100 * lim_up / mean_val, 3)\n",
    "  #  lim_dw = mean_val - alpha * np.sqrt(var)\n",
    "  #  index_dw = np.round(100 * lim_dw / mean_val, 3)\n",
    "#\n",
    "  #  if Nr >= lim_dw and Nr <= lim_up:   \n",
    "  #      bns = 'Stationary'\n",
    "  #  else:\n",
    "  #      bns = 'Non-stationary' \n",
    "  #  \n",
    "  #  ## Index of non-stationary\n",
    "  #  index = 100 * Nr / mean_val  \n",
    "  #  if index > 100:\n",
    "  #      index = 100\n",
    "  #  else:\n",
    "  #      index = np.round(index,2)\n",
    "  #  \n",
    "  #  nnst = {'index': index, 'bns':bns, 'ind_dw':index_dw, 'ind_up':index_up}\n",
    "#\n",
    "  #  if plot_res == True:\n",
    "  #      plt.figure()\n",
    "  #      plt.plot(time,signal, color = 'darkgray', zorder = 2, label = 'Signal')\n",
    "  #      plt.hlines(np.mean(signal)+ent_stdv, 0, T, colors='C1', linestyles='solid', zorder = 4, label = 'Standard deviation')\n",
    "  #      plt.plot(np.linspace(0,T,len(stdv)),np.mean(signal)+stdv, color = 'C0', zorder = 3, label = 'Standard deviation windows')\n",
    "  #      plt.hlines(np.mean(signal) + boundUP, 0, T, colors='C3', linestyles='dashed', zorder = 5, label = 'Boundaries')\n",
    "  #      plt.hlines(np.mean(signal) + boundDW, 0, T, colors='C3', linestyles='dashed', zorder = 6)\n",
    "  #      plt.legend(loc=4)\n",
    "  #      plt.grid(zorder = 1)\n",
    "  #      plt.xlim([0,T])\n",
    "  #      plt.xlabel('Time [s]')\n",
    "  #      plt.ylabel('Amplitude [\\]')\n",
    "  #      plt.show()\n",
    "  #      \n",
    "  #  return nnst"
   ]
  },
  {
   "cell_type": "code",
   "execution_count": 10,
   "metadata": {},
   "outputs": [],
   "source": [
    "data = np.load('C:/Users/Lorenzo/Documents/Lubiana/Nnst/Data/camera11.npy')\n",
    "signal = data[:,30,35]\n",
    "nsec = 0.75\n",
    "sampling_freq = 400\n",
    "overlap = 0 \n",
    "confidence = 95\n",
    "plot_res = True"
   ]
  },
  {
   "cell_type": "code",
   "execution_count": 15,
   "metadata": {},
   "outputs": [],
   "source": [
    "          \n",
    "## Confidence interval\n",
    "coeff = [1.645, 1.96, 2.326, 2.576]\n",
    "conf = [90, 95, 98, 99]\n",
    "alpha = coeff[conf.index(confidence)]\n",
    "\n",
    "## Windowing\n",
    "T = len(signal) / sampling_freq - 1 / sampling_freq\n",
    "time = np.linspace(0, T , len(signal))\n",
    "ent_stdv = np.std(signal, ddof = 0) # Standard deviation of entire signal"
   ]
  },
  {
   "cell_type": "code",
   "execution_count": null,
   "metadata": {},
   "outputs": [],
   "source": [
    "plt.plot(time,signal)"
   ]
  },
  {
   "cell_type": "code",
   "execution_count": 11,
   "metadata": {},
   "outputs": [
    {
     "ename": "IndexError",
     "evalue": "tuple index out of range",
     "output_type": "error",
     "traceback": [
      "\u001b[1;31m---------------------------------------------------------------------------\u001b[0m",
      "\u001b[1;31mIndexError\u001b[0m                                Traceback (most recent call last)",
      "\u001b[1;32m<ipython-input-11-be83d74ce611>\u001b[0m in \u001b[0;36m<module>\u001b[1;34m\u001b[0m\n\u001b[0;32m     16\u001b[0m \u001b[1;33m\u001b[0m\u001b[0m\n\u001b[0;32m     17\u001b[0m \u001b[0mcls\u001b[0m \u001b[1;33m=\u001b[0m \u001b[0mnp\u001b[0m\u001b[1;33m.\u001b[0m\u001b[0marray_split\u001b[0m\u001b[1;33m(\u001b[0m\u001b[0msignal\u001b[0m\u001b[1;33m,\u001b[0m\u001b[0mcmp\u001b[0m\u001b[1;33m)\u001b[0m\u001b[1;33m\u001b[0m\u001b[1;33m\u001b[0m\u001b[0m\n\u001b[1;32m---> 18\u001b[1;33m \u001b[0mstdv\u001b[0m \u001b[1;33m=\u001b[0m \u001b[0mnp\u001b[0m\u001b[1;33m.\u001b[0m\u001b[0mstd\u001b[0m\u001b[1;33m(\u001b[0m\u001b[0mcls\u001b[0m\u001b[1;33m,\u001b[0m\u001b[0maxis\u001b[0m\u001b[1;33m=\u001b[0m\u001b[1;36m1\u001b[0m\u001b[1;33m,\u001b[0m\u001b[0mddof\u001b[0m\u001b[1;33m=\u001b[0m\u001b[1;36m1\u001b[0m\u001b[1;33m)\u001b[0m\u001b[1;33m\u001b[0m\u001b[1;33m\u001b[0m\u001b[0m\n\u001b[0m\u001b[0;32m     19\u001b[0m \u001b[0mcls_stdv\u001b[0m \u001b[1;33m=\u001b[0m \u001b[0mnp\u001b[0m\u001b[1;33m.\u001b[0m\u001b[0mstd\u001b[0m\u001b[1;33m(\u001b[0m\u001b[0mstdv\u001b[0m\u001b[1;33m,\u001b[0m \u001b[0mddof\u001b[0m \u001b[1;33m=\u001b[0m \u001b[1;36m1\u001b[0m\u001b[1;33m)\u001b[0m\u001b[1;33m\u001b[0m\u001b[1;33m\u001b[0m\u001b[0m\n\u001b[0;32m     20\u001b[0m \u001b[0mboundUP\u001b[0m \u001b[1;33m=\u001b[0m \u001b[0ment_stdv\u001b[0m \u001b[1;33m+\u001b[0m \u001b[0mcls_stdv\u001b[0m\u001b[1;33m\u001b[0m\u001b[1;33m\u001b[0m\u001b[0m\n",
      "\u001b[1;32m~\\Anaconda3\\lib\\site-packages\\numpy\\core\\fromnumeric.py\u001b[0m in \u001b[0;36mstd\u001b[1;34m(a, axis, dtype, out, ddof, keepdims)\u001b[0m\n\u001b[0;32m   3240\u001b[0m \u001b[1;33m\u001b[0m\u001b[0m\n\u001b[0;32m   3241\u001b[0m     return _methods._std(a, axis=axis, dtype=dtype, out=out, ddof=ddof,\n\u001b[1;32m-> 3242\u001b[1;33m                          **kwargs)\n\u001b[0m\u001b[0;32m   3243\u001b[0m \u001b[1;33m\u001b[0m\u001b[0m\n\u001b[0;32m   3244\u001b[0m \u001b[1;33m\u001b[0m\u001b[0m\n",
      "\u001b[1;32m~\\Anaconda3\\lib\\site-packages\\numpy\\core\\_methods.py\u001b[0m in \u001b[0;36m_std\u001b[1;34m(a, axis, dtype, out, ddof, keepdims)\u001b[0m\n\u001b[0;32m    138\u001b[0m \u001b[1;32mdef\u001b[0m \u001b[0m_std\u001b[0m\u001b[1;33m(\u001b[0m\u001b[0ma\u001b[0m\u001b[1;33m,\u001b[0m \u001b[0maxis\u001b[0m\u001b[1;33m=\u001b[0m\u001b[1;32mNone\u001b[0m\u001b[1;33m,\u001b[0m \u001b[0mdtype\u001b[0m\u001b[1;33m=\u001b[0m\u001b[1;32mNone\u001b[0m\u001b[1;33m,\u001b[0m \u001b[0mout\u001b[0m\u001b[1;33m=\u001b[0m\u001b[1;32mNone\u001b[0m\u001b[1;33m,\u001b[0m \u001b[0mddof\u001b[0m\u001b[1;33m=\u001b[0m\u001b[1;36m0\u001b[0m\u001b[1;33m,\u001b[0m \u001b[0mkeepdims\u001b[0m\u001b[1;33m=\u001b[0m\u001b[1;32mFalse\u001b[0m\u001b[1;33m)\u001b[0m\u001b[1;33m:\u001b[0m\u001b[1;33m\u001b[0m\u001b[1;33m\u001b[0m\u001b[0m\n\u001b[0;32m    139\u001b[0m     ret = _var(a, axis=axis, dtype=dtype, out=out, ddof=ddof,\n\u001b[1;32m--> 140\u001b[1;33m                keepdims=keepdims)\n\u001b[0m\u001b[0;32m    141\u001b[0m \u001b[1;33m\u001b[0m\u001b[0m\n\u001b[0;32m    142\u001b[0m     \u001b[1;32mif\u001b[0m \u001b[0misinstance\u001b[0m\u001b[1;33m(\u001b[0m\u001b[0mret\u001b[0m\u001b[1;33m,\u001b[0m \u001b[0mmu\u001b[0m\u001b[1;33m.\u001b[0m\u001b[0mndarray\u001b[0m\u001b[1;33m)\u001b[0m\u001b[1;33m:\u001b[0m\u001b[1;33m\u001b[0m\u001b[1;33m\u001b[0m\u001b[0m\n",
      "\u001b[1;32m~\\Anaconda3\\lib\\site-packages\\numpy\\core\\_methods.py\u001b[0m in \u001b[0;36m_var\u001b[1;34m(a, axis, dtype, out, ddof, keepdims)\u001b[0m\n\u001b[0;32m     92\u001b[0m     \u001b[0marr\u001b[0m \u001b[1;33m=\u001b[0m \u001b[0masanyarray\u001b[0m\u001b[1;33m(\u001b[0m\u001b[0ma\u001b[0m\u001b[1;33m)\u001b[0m\u001b[1;33m\u001b[0m\u001b[1;33m\u001b[0m\u001b[0m\n\u001b[0;32m     93\u001b[0m \u001b[1;33m\u001b[0m\u001b[0m\n\u001b[1;32m---> 94\u001b[1;33m     \u001b[0mrcount\u001b[0m \u001b[1;33m=\u001b[0m \u001b[0m_count_reduce_items\u001b[0m\u001b[1;33m(\u001b[0m\u001b[0marr\u001b[0m\u001b[1;33m,\u001b[0m \u001b[0maxis\u001b[0m\u001b[1;33m)\u001b[0m\u001b[1;33m\u001b[0m\u001b[1;33m\u001b[0m\u001b[0m\n\u001b[0m\u001b[0;32m     95\u001b[0m     \u001b[1;31m# Make this warning show up on top.\u001b[0m\u001b[1;33m\u001b[0m\u001b[1;33m\u001b[0m\u001b[1;33m\u001b[0m\u001b[0m\n\u001b[0;32m     96\u001b[0m     \u001b[1;32mif\u001b[0m \u001b[0mddof\u001b[0m \u001b[1;33m>=\u001b[0m \u001b[0mrcount\u001b[0m\u001b[1;33m:\u001b[0m\u001b[1;33m\u001b[0m\u001b[1;33m\u001b[0m\u001b[0m\n",
      "\u001b[1;32m~\\Anaconda3\\lib\\site-packages\\numpy\\core\\_methods.py\u001b[0m in \u001b[0;36m_count_reduce_items\u001b[1;34m(arr, axis)\u001b[0m\n\u001b[0;32m     53\u001b[0m     \u001b[0mitems\u001b[0m \u001b[1;33m=\u001b[0m \u001b[1;36m1\u001b[0m\u001b[1;33m\u001b[0m\u001b[1;33m\u001b[0m\u001b[0m\n\u001b[0;32m     54\u001b[0m     \u001b[1;32mfor\u001b[0m \u001b[0max\u001b[0m \u001b[1;32min\u001b[0m \u001b[0maxis\u001b[0m\u001b[1;33m:\u001b[0m\u001b[1;33m\u001b[0m\u001b[1;33m\u001b[0m\u001b[0m\n\u001b[1;32m---> 55\u001b[1;33m         \u001b[0mitems\u001b[0m \u001b[1;33m*=\u001b[0m \u001b[0marr\u001b[0m\u001b[1;33m.\u001b[0m\u001b[0mshape\u001b[0m\u001b[1;33m[\u001b[0m\u001b[0max\u001b[0m\u001b[1;33m]\u001b[0m\u001b[1;33m\u001b[0m\u001b[1;33m\u001b[0m\u001b[0m\n\u001b[0m\u001b[0;32m     56\u001b[0m     \u001b[1;32mreturn\u001b[0m \u001b[0mitems\u001b[0m\u001b[1;33m\u001b[0m\u001b[1;33m\u001b[0m\u001b[0m\n\u001b[0;32m     57\u001b[0m \u001b[1;33m\u001b[0m\u001b[0m\n",
      "\u001b[1;31mIndexError\u001b[0m: tuple index out of range"
     ]
    }
   ],
   "source": [
    "\n",
    "\n",
    "w_point = int(np.ceil(sampling_freq * nsec)) # Number of point for each window\n",
    "lap = int(w_point * overlap)        # Number of point overlapped\n",
    "L = len(signal)                     # length of the signal\n",
    "dist = w_point - lap                # Number of point for each compartment\n",
    "cmp = int(np.floor(L / dist))       # Number of compartment\n",
    "\n",
    "cls = np.array_split(signal,cmp)\n",
    "stdv = np.std(cls,axis=1,ddof=1)\n",
    "cls_stdv = np.std(stdv, ddof = 1)\n",
    "boundUP = ent_stdv + cls_stdv\n",
    "boundDW = ent_stdv - cls_stdv"
   ]
  },
  {
   "cell_type": "code",
   "execution_count": 12,
   "metadata": {},
   "outputs": [
    {
     "data": {
      "text/plain": [
       "20.625"
      ]
     },
     "execution_count": 12,
     "metadata": {},
     "output_type": "execute_result"
    }
   ],
   "source": [
    "275*0.075"
   ]
  },
  {
   "cell_type": "code",
   "execution_count": 13,
   "metadata": {},
   "outputs": [
    {
     "ename": "NameError",
     "evalue": "name 'stdv' is not defined",
     "output_type": "error",
     "traceback": [
      "\u001b[1;31m---------------------------------------------------------------------------\u001b[0m",
      "\u001b[1;31mNameError\u001b[0m                                 Traceback (most recent call last)",
      "\u001b[1;32m<ipython-input-13-f624a7d639d1>\u001b[0m in \u001b[0;36m<module>\u001b[1;34m\u001b[0m\n\u001b[0;32m      4\u001b[0m \u001b[0mN0\u001b[0m \u001b[1;33m=\u001b[0m \u001b[1;36m0\u001b[0m\u001b[1;33m\u001b[0m\u001b[1;33m\u001b[0m\u001b[0m\n\u001b[0;32m      5\u001b[0m \u001b[1;33m\u001b[0m\u001b[0m\n\u001b[1;32m----> 6\u001b[1;33m \u001b[1;32mfor\u001b[0m \u001b[0mi\u001b[0m \u001b[1;32min\u001b[0m \u001b[0mrange\u001b[0m\u001b[1;33m(\u001b[0m\u001b[1;36m0\u001b[0m\u001b[1;33m,\u001b[0m \u001b[0mstdv\u001b[0m\u001b[1;33m.\u001b[0m\u001b[0mshape\u001b[0m\u001b[1;33m[\u001b[0m\u001b[1;36m0\u001b[0m\u001b[1;33m]\u001b[0m\u001b[1;33m)\u001b[0m\u001b[1;33m:\u001b[0m\u001b[1;33m\u001b[0m\u001b[1;33m\u001b[0m\u001b[0m\n\u001b[0m\u001b[0;32m      7\u001b[0m     \u001b[1;32mif\u001b[0m \u001b[0mstdv\u001b[0m\u001b[1;33m[\u001b[0m\u001b[0mi\u001b[0m\u001b[1;33m]\u001b[0m \u001b[1;33m>\u001b[0m \u001b[0mboundUP\u001b[0m \u001b[1;32mor\u001b[0m \u001b[0mstdv\u001b[0m\u001b[1;33m[\u001b[0m\u001b[0mi\u001b[0m\u001b[1;33m]\u001b[0m \u001b[1;33m<\u001b[0m \u001b[0mboundDW\u001b[0m\u001b[1;33m:\u001b[0m\u001b[1;33m\u001b[0m\u001b[1;33m\u001b[0m\u001b[0m\n\u001b[0;32m      8\u001b[0m         \u001b[0mrun\u001b[0m \u001b[1;33m=\u001b[0m \u001b[0mnp\u001b[0m\u001b[1;33m.\u001b[0m\u001b[0mappend\u001b[0m\u001b[1;33m(\u001b[0m\u001b[0mrun\u001b[0m\u001b[1;33m,\u001b[0m \u001b[1;36m1\u001b[0m\u001b[1;33m)\u001b[0m\u001b[1;33m\u001b[0m\u001b[1;33m\u001b[0m\u001b[0m\n",
      "\u001b[1;31mNameError\u001b[0m: name 'stdv' is not defined"
     ]
    }
   ],
   "source": [
    "## Run computation\n",
    "run = np.empty(0)\n",
    "N1 = 0\n",
    "N0 = 0\n",
    "\n",
    "for i in range(0, stdv.shape[0]):\n",
    "    if stdv[i] > boundUP or stdv[i] < boundDW:\n",
    "        run = np.append(run, 1)\n",
    "    else:\n",
    "        run = np.append(run, 0)\n",
    "\n",
    "for i in range(0, len(run)):\n",
    "    if run[i] == 1.:\n",
    "        N1 += 1\n",
    "    else:\n",
    "        N0 += 1\n",
    "        \n",
    "N = N1 + N0\n",
    "Nr = 0\n",
    "\n",
    "for i in range(1, len(run)):\n",
    "    if run[i] != run[i-1]:\n",
    "        Nr += 1"
   ]
  },
  {
   "cell_type": "code",
   "execution_count": 14,
   "metadata": {},
   "outputs": [
    {
     "ename": "NameError",
     "evalue": "name 'N' is not defined",
     "output_type": "error",
     "traceback": [
      "\u001b[1;31m---------------------------------------------------------------------------\u001b[0m",
      "\u001b[1;31mNameError\u001b[0m                                 Traceback (most recent call last)",
      "\u001b[1;32m<ipython-input-14-60334edbf8d7>\u001b[0m in \u001b[0;36m<module>\u001b[1;34m\u001b[0m\n\u001b[0;32m      1\u001b[0m \u001b[1;31m## Stationary limits\u001b[0m\u001b[1;33m\u001b[0m\u001b[1;33m\u001b[0m\u001b[1;33m\u001b[0m\u001b[0m\n\u001b[1;32m----> 2\u001b[1;33m \u001b[0mmean_val\u001b[0m \u001b[1;33m=\u001b[0m \u001b[1;33m(\u001b[0m\u001b[1;36m2\u001b[0m \u001b[1;33m*\u001b[0m \u001b[0mN1\u001b[0m \u001b[1;33m*\u001b[0m \u001b[0mN0\u001b[0m\u001b[1;33m)\u001b[0m \u001b[1;33m/\u001b[0m \u001b[0mN\u001b[0m \u001b[1;33m+\u001b[0m \u001b[1;36m1\u001b[0m\u001b[1;33m\u001b[0m\u001b[1;33m\u001b[0m\u001b[0m\n\u001b[0m\u001b[0;32m      3\u001b[0m \u001b[0mvar\u001b[0m \u001b[1;33m=\u001b[0m \u001b[1;33m(\u001b[0m\u001b[1;36m2\u001b[0m \u001b[1;33m*\u001b[0m \u001b[0mN1\u001b[0m \u001b[1;33m*\u001b[0m \u001b[0mN0\u001b[0m \u001b[1;33m*\u001b[0m \u001b[1;33m(\u001b[0m\u001b[1;36m2\u001b[0m \u001b[1;33m*\u001b[0m \u001b[0mN1\u001b[0m \u001b[1;33m*\u001b[0m \u001b[0mN0\u001b[0m \u001b[1;33m-\u001b[0m \u001b[0mN\u001b[0m\u001b[1;33m)\u001b[0m\u001b[1;33m)\u001b[0m \u001b[1;33m/\u001b[0m \u001b[1;33m(\u001b[0m\u001b[0mN\u001b[0m\u001b[1;33m**\u001b[0m\u001b[1;36m2\u001b[0m \u001b[1;33m*\u001b[0m \u001b[1;33m(\u001b[0m\u001b[0mN\u001b[0m \u001b[1;33m-\u001b[0m \u001b[1;36m1\u001b[0m\u001b[1;33m)\u001b[0m\u001b[1;33m)\u001b[0m\u001b[1;33m\u001b[0m\u001b[1;33m\u001b[0m\u001b[0m\n\u001b[0;32m      4\u001b[0m \u001b[1;33m\u001b[0m\u001b[0m\n\u001b[0;32m      5\u001b[0m \u001b[0mlim_up\u001b[0m \u001b[1;33m=\u001b[0m \u001b[0mmean_val\u001b[0m \u001b[1;33m+\u001b[0m \u001b[0malpha\u001b[0m \u001b[1;33m*\u001b[0m \u001b[0mnp\u001b[0m\u001b[1;33m.\u001b[0m\u001b[0msqrt\u001b[0m\u001b[1;33m(\u001b[0m\u001b[0mvar\u001b[0m\u001b[1;33m)\u001b[0m\u001b[1;33m\u001b[0m\u001b[1;33m\u001b[0m\u001b[0m\n",
      "\u001b[1;31mNameError\u001b[0m: name 'N' is not defined"
     ]
    }
   ],
   "source": [
    "## Stationary limits \n",
    "mean_val = (2 * N1 * N0) / N + 1\n",
    "var = (2 * N1 * N0 * (2 * N1 * N0 - N)) / (N**2 * (N - 1))\n",
    "\n",
    "lim_up = mean_val + alpha * np.sqrt(var)\n",
    "index_up = np.round(100 * lim_up / mean_val, 3)\n",
    "lim_dw = mean_val - alpha * np.sqrt(var)\n",
    "index_dw = np.round(100 * lim_dw / mean_val, 3)\n",
    "\n",
    "if Nr >= lim_dw and Nr <= lim_up:   \n",
    "    bns = 'Stationary'\n",
    "else:\n",
    "    bns = 'Non-stationary' \n",
    "    \n",
    "## Index of non-stationary\n",
    "index = 100 * Nr / mean_val  \n",
    "if index > 100:\n",
    "    index = 100\n",
    "else:\n",
    "    index = np.round(index,2)\n",
    "    \n",
    "nnst = {'index': index, 'bns':bns, 'ind_dw':index_dw, 'ind_up':index_up}\n",
    "\n",
    "if plot_res == True:\n",
    "    plt.figure()\n",
    "    plt.plot(time,signal, color = 'darkgray', zorder = 2, label = 'Signal')\n",
    "    plt.hlines(np.mean(signal)+ent_stdv, 0, T, colors='C1', linestyles='solid', zorder = 4, label = 'Standard deviation')\n",
    "    plt.plot(np.linspace(0,T,len(stdv)),np.mean(signal)+stdv, color = 'C0', zorder = 3, label = 'Standard deviation windows')\n",
    "    plt.hlines(np.mean(signal) + boundUP, 0, T, colors='C3', linestyles='dashed', zorder = 5, label = 'Boundaries')\n",
    "    plt.hlines(np.mean(signal) + boundDW, 0, T, colors='C3', linestyles='dashed', zorder = 6)\n",
    "    plt.legend(loc=4)\n",
    "    plt.grid(zorder = 1)\n",
    "    plt.xlim([0,T])\n",
    "    plt.xlabel('Time [s]')\n",
    "    plt.ylabel('Amplitude [\\]')\n",
    "    plt.show()"
   ]
  },
  {
   "cell_type": "code",
   "execution_count": null,
   "metadata": {},
   "outputs": [],
   "source": []
  },
  {
   "cell_type": "code",
   "execution_count": null,
   "metadata": {},
   "outputs": [],
   "source": []
  },
  {
   "cell_type": "code",
   "execution_count": null,
   "metadata": {},
   "outputs": [],
   "source": []
  }
 ],
 "metadata": {
  "kernelspec": {
   "display_name": "Python 3",
   "language": "python",
   "name": "python3"
  },
  "language_info": {
   "codemirror_mode": {
    "name": "ipython",
    "version": 3
   },
   "file_extension": ".py",
   "mimetype": "text/x-python",
   "name": "python",
   "nbconvert_exporter": "python",
   "pygments_lexer": "ipython3",
   "version": "3.7.4"
  }
 },
 "nbformat": 4,
 "nbformat_minor": 2
}
