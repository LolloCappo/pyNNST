{
 "cells": [
  {
   "cell_type": "code",
   "execution_count": 7,
   "metadata": {},
   "outputs": [],
   "source": [
    "import numpy as np\n",
    "import matplotlib.pyplot as plt"
   ]
  },
  {
   "cell_type": "code",
   "execution_count": 95,
   "metadata": {},
   "outputs": [],
   "source": [
    "data = np.load('C:/Users/Lorenzo/Documents/Lubiana/Nnst/Data/camera11.npy')\n",
    "signal = data[:,30,35]\n",
    "nsec = 0.01\n",
    "sampling_freq = 400\n",
    "overlap = 0 \n",
    "confidence = 95\n",
    "plot_res = True"
   ]
  },
  {
   "cell_type": "code",
   "execution_count": 96,
   "metadata": {},
   "outputs": [],
   "source": [
    "# Signal definition\n",
    "N = len(signal)             #Number of points\n",
    "dt = 1/sampling_freq        #Time step\n",
    "T = N*dt - dt               #Time length\n",
    "time = np.linspace(0, T, N) #Time vector\n",
    "\n",
    "ent_std = np.std(signal, ddof = 1) #Standard deviation of entire signal\n",
    "ent_mean = np.mean(signal)         #Mean value of entire signal\n",
    "\n",
    "## Confidence interval\n",
    "coeff = [1.645, 1.96, 2.326, 2.576]\n",
    "conf = [90, 95, 98, 99]\n",
    "alpha = coeff[conf.index(confidence)]"
   ]
  },
  {
   "cell_type": "code",
   "execution_count": 99,
   "metadata": {},
   "outputs": [],
   "source": [
    "wdw_pts = int(np.floor(sampling_freq * nsec))        #Number of point for each window\n",
    "seg_pts = wdw_pts - int(np.floor(wdw_pts * overlap)) #Number of point for each segment (considering overlap)\n",
    "seg = int(np.ceil(N / seg_pts))                      #Number of segments\n",
    "cls = np.array(np.array_split(signal, seg))          #Cluster (segmentation of signal)"
   ]
  },
  {
   "cell_type": "code",
   "execution_count": 108,
   "metadata": {},
   "outputs": [],
   "source": [
    "seg_std = np.std(cls, axis=1, ddof=1)\n",
    "cls_std = np.std(seg_stdv, ddof = 1)\n",
    "boundUP = ent_std + cls_std\n",
    "boundDW = ent_std - cls_std"
   ]
  },
  {
   "cell_type": "code",
   "execution_count": 133,
   "metadata": {},
   "outputs": [],
   "source": [
    "## Run computation\n",
    "run = np.empty(seg)\n",
    "for i in range(0, seg):\n",
    "    if seg_std[i] > boundUP or seg_std[i] < boundDW:\n",
    "        run[i] = 1\n",
    "    else:\n",
    "        run[i] = 0\n",
    "\n",
    "N1 = 0\n",
    "N0 = 0\n",
    "for i in range(0, seg):\n",
    "    if run[i] == 1.:\n",
    "        N1 += 1\n",
    "    else:\n",
    "        N0 += 1\n",
    "        \n",
    "N = N1 + N0\n",
    "Nr = 0\n",
    "\n",
    "for i in range(1, seg):\n",
    "    if run[i] != run[i-1]:\n",
    "        Nr += 1"
   ]
  },
  {
   "cell_type": "code",
   "execution_count": 134,
   "metadata": {},
   "outputs": [],
   "source": [
    "## Stationary limits \n",
    "run_mean = (2 * N1 * N0) / N + 1\n",
    "run_var = (2 * N1 * N0 * (2 * N1 * N0 - N)) / (N**2 * (N - 1))\n",
    "\n",
    "lim_up = run_mean + alpha * np.sqrt(run_var)\n",
    "lim_dw = run_mean - alpha * np.sqrt(run_var)\n",
    "\n",
    "index_up = np.round(100 * lim_up / mean_val, 2)\n",
    "index_dw = np.round(100 * lim_dw / mean_val, 2)\n",
    "\n",
    "if Nr >= lim_dw and Nr <= lim_up:   \n",
    "    bns = 'Stationary'\n",
    "else:\n",
    "    bns = 'Non-stationary' \n",
    "    \n",
    "## Index of non-stationary\n",
    "index = np.round( 100 * Nr / run_mean, 2)\n",
    "    \n",
    "nnst = {'index': index, 'bns':bns, 'ind_dw':index_dw, 'ind_up':index_up}\n"
   ]
  },
  {
   "cell_type": "code",
   "execution_count": 135,
   "metadata": {},
   "outputs": [
    {
     "data": {
      "text/plain": [
       "{'index': 100.89, 'bns': 'Stationary', 'ind_dw': 95.62, 'ind_up': 104.38}"
      ]
     },
     "execution_count": 135,
     "metadata": {},
     "output_type": "execute_result"
    }
   ],
   "source": [
    "nnst"
   ]
  },
  {
   "cell_type": "code",
   "execution_count": null,
   "metadata": {},
   "outputs": [],
   "source": [
    "if plot_res == True:\n",
    "    plt.figure()\n",
    "    plt.plot(time,signal, color = 'darkgray', zorder = 0, label = 'Signal')\n",
    "    plt.hlines(ent_mean + ent_std, 0, T, colors='C1', linestyles='solid', zorder = 0, label = 'STD')\n",
    "    plt.plot(np.linspace(0,T,len(stdv)),np.mean(signal)+stdv, color = 'C0', zorder = 2, label = 'Segments STD')\n",
    "    plt.hlines(np.mean(signal) + boundUP, 0, T, colors='C3', linestyles='dashed', zorder = 5, label = 'Boundaries')\n",
    "    plt.hlines(np.mean(signal) + boundDW, 0, T, colors='C3', linestyles='dashed', zorder = 6)\n",
    "    plt.legend(loc=4)\n",
    "    plt.grid()\n",
    "    plt.xlim([0,T])\n",
    "    plt.xlabel('Time [s]')\n",
    "    plt.ylabel('Amplitude [\\]')\n",
    "    plt.show()"
   ]
  }
 ],
 "metadata": {
  "kernelspec": {
   "display_name": "Python 3",
   "language": "python",
   "name": "python3"
  },
  "language_info": {
   "codemirror_mode": {
    "name": "ipython",
    "version": 3
   },
   "file_extension": ".py",
   "mimetype": "text/x-python",
   "name": "python",
   "nbconvert_exporter": "python",
   "pygments_lexer": "ipython3",
   "version": "3.7.4"
  }
 },
 "nbformat": 4,
 "nbformat_minor": 2
}
