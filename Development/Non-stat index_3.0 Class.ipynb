{
 "cells": [
  {
   "cell_type": "code",
   "execution_count": 1,
   "metadata": {},
   "outputs": [],
   "source": [
    "import numpy as np\n",
    "import matplotlib.pyplot as plt"
   ]
  },
  {
   "cell_type": "code",
   "execution_count": 2,
   "metadata": {},
   "outputs": [],
   "source": [
    "data = np.load('C:/Users/Lorenzo/Documents/Lubiana/Nnst/Data/camera11.npy')\n",
    "signal = data[:,30,35]\n",
    "nsec = 0.05\n",
    "sampling_freq = 400\n",
    "overlap = 0 \n",
    "confidence = 95"
   ]
  },
  {
   "cell_type": "code",
   "execution_count": 12,
   "metadata": {},
   "outputs": [],
   "source": [
    "class idns:\n",
    "    def __init__(self, signal, nsec, sampling_freq, overlap, confidence):\n",
    "        self.signal = signal\n",
    "        self.nsec = nsec\n",
    "        self.sampling_freq = sampling_freq\n",
    "        self.overlap = overlap\n",
    "        self.confidence = confidence\n",
    "        \n",
    "    def comp(self):\n",
    "        if self.nsec < 2/self.sampling_freq:\n",
    "            print('Error: nsec should be at least twice the inverse of sampling frequency')\n",
    "            return None\n",
    "        \n",
    "        self.N_pts = len(self.signal)\n",
    "        self.dt = 1/self.sampling_freq            \n",
    "        self.T = self.N_pts * self.dt - self.dt             \n",
    "        self.time = np.linspace(0, self.T, self.N_pts)\n",
    "        self.ent_std = np.std(self.signal, ddof = 1) \n",
    "        self.ent_mean = np.mean(self.signal)        \n",
    "        coeff = [1.645, 1.96, 2.326, 2.576]\n",
    "        conf = [90, 95, 98, 99]\n",
    "        self.alpha = coeff[conf.index(self.confidence)]\n",
    "        self.data_base = {'N_pts':self.N_pts,\n",
    "                          'time':self.time,\n",
    "                          'std':self.ent_std,\n",
    "                          'mean':self.ent_mean,\n",
    "                          'alpha':self.alpha}\n",
    "        \n",
    "        wdw_pts = int(np.floor(self.sampling_freq * self.nsec)) \n",
    "        seg_pts = wdw_pts - int(np.floor(wdw_pts * self.overlap)) \n",
    "        seg = int(np.ceil(self.N_pts / seg_pts))                  \n",
    "        self.seg_time = np.linspace(0,self.T,seg)\n",
    "        res = self.N_pts % seg_pts      \n",
    "        cls = np.array([self.signal[i:i + seg_pts] for i in range(0, self.N_pts-res, seg_pts)])\n",
    "\n",
    "        self.seg_std = np.std(cls, axis=1, ddof=1)\n",
    "\n",
    "        if self.N_pts % seg_pts != 0:\n",
    "            seg_res = signal[self.N_pts - res:self.N_pts]\n",
    "            seg_res_std = np.std(seg_res,ddof=1)\n",
    "            self.seg_std = np.append(self.seg_std,seg_res_std)\n",
    "    \n",
    "        cls_std = np.std(self.seg_std, ddof = 1)\n",
    "    \n",
    "        self.boundUP = self.ent_std + cls_std\n",
    "        self.boundDW = self.ent_std - cls_std\n",
    "        \n",
    "        rn = np.empty(seg)\n",
    "        for i in range(0, seg):\n",
    "            if self.seg_std[i] > self.boundUP or self.seg_std[i] < self.boundDW:\n",
    "                rn[i] = 1\n",
    "            else:\n",
    "                rn[i] = 0\n",
    "\n",
    "        N1 = N0 = 0\n",
    "        for i in range(0, seg):\n",
    "            if rn[i] == 1.:\n",
    "                N1 += 1\n",
    "            else:\n",
    "                N0 += 1\n",
    "        \n",
    "        N = N1 + N0\n",
    "        self.Nr = 0\n",
    "\n",
    "        for i in range(1, seg):\n",
    "            if rn[i] != rn[i-1]:\n",
    "                self.Nr += 1\n",
    "        \n",
    "        ## Stationary limits \n",
    "        if N == 0 or N == 1:\n",
    "            print('Error: check window length')\n",
    "            return None \n",
    "        \n",
    "        self.run_mean = (2 * N1 * N0) / N + 1\n",
    "        self.run_var = (2 * N1 * N0 * (2 * N1 * N0 - N)) / (N**2 * (N - 1))\n",
    "        \n",
    "        self.run = {'run': self.Nr, 'run_mean': self.run_mean, 'run_var': self.run_var}\n",
    "        \n",
    "        self.lim_up = self.run_mean + self.alpha * np.sqrt(self.run_var)\n",
    "        self.lim_dw = self.run_mean - self.alpha * np.sqrt(self.run_var)\n",
    "\n",
    "        self.index_up = np.round(100 * self.lim_up / self.run_mean, 2)\n",
    "        self.index_dw = np.round(100 * self.lim_dw / self.run_mean, 2)\n",
    "        \n",
    "        if self.Nr >= self.lim_dw and self.Nr <= self.lim_up:   \n",
    "            self.bns = 'Stationary'\n",
    "        else:\n",
    "            self.bns = 'Non-stationary' \n",
    "            \n",
    "        self.index = np.round( 100 * self.Nr / self.run_mean, 2)\n",
    "        \n",
    "    \n",
    "    def get_base(self):\n",
    "        return self.data_base\n",
    "        \n",
    "    def get_run(self):        \n",
    "        return self.run\n",
    "        \n",
    "    def get_limits(self):\n",
    "        return [self.index_dw, self.index_up]\n",
    "\n",
    "    def get_bns(self):\n",
    "        return self.bns\n",
    "    \n",
    "    def get_index(self):\n",
    "        return self.index\n",
    "    \n",
    "    def get_plot(self):\n",
    "        fig = plt.figure()\n",
    "        ax = fig.add_subplot(1,1,1)\n",
    "        ax.plot(self.time, self.signal, color = 'darkgray', zorder = 1, label = 'Signal')\n",
    "        ax.plot(self.seg_time, self.ent_mean + self.seg_std, color = 'C0', zorder = 2, label = 'Segments STD')\n",
    "        ax.hlines(self.ent_mean + self.ent_std, 0, self.T+self.dt, colors='C1', linestyles='solid', zorder = 3, label = 'STD')\n",
    "        ax.hlines(self.ent_mean + self.boundUP, 0, self.T+self.dt, colors='C3', linestyles='dashed', zorder = 4, label = 'Boundaries')\n",
    "        ax.hlines(self.ent_mean + self.boundDW, 0, self.T+self.dt, colors='C3', linestyles='dashed', zorder = 5)\n",
    "        ax.legend(loc=4)\n",
    "        ax.grid()\n",
    "        ax.set_xlim([0,self.T+self.dt])\n",
    "        ax.set_xlabel('Time [s]')\n",
    "        ax.set_ylabel('Amplitude [\\]')\n",
    "        ax.set_title('Index: '+str(self.index) + '%\\n' + self.bns)\n",
    "        plt.show()"
   ]
  },
  {
   "cell_type": "code",
   "execution_count": 15,
   "metadata": {},
   "outputs": [],
   "source": [
    "a = idns(signal, nsec, sampling_freq, overlap, confidence)"
   ]
  },
  {
   "cell_type": "code",
   "execution_count": 16,
   "metadata": {},
   "outputs": [],
   "source": [
    "ciao = 5"
   ]
  },
  {
   "cell_type": "code",
   "execution_count": 17,
   "metadata": {},
   "outputs": [
    {
     "name": "stdout",
     "output_type": "stream",
     "text": [
      "5\n"
     ]
    }
   ],
   "source": [
    "a.comp()"
   ]
  },
  {
   "cell_type": "code",
   "execution_count": 10,
   "metadata": {},
   "outputs": [
    {
     "data": {
      "text/plain": [
       "{'run': 186, 'run_mean': 179.875, 'run_var': 79.74283364661655}"
      ]
     },
     "execution_count": 10,
     "metadata": {},
     "output_type": "execute_result"
    }
   ],
   "source": [
    "a.get_run()"
   ]
  },
  {
   "cell_type": "code",
   "execution_count": null,
   "metadata": {},
   "outputs": [],
   "source": [
    "a.get_limits()"
   ]
  },
  {
   "cell_type": "code",
   "execution_count": null,
   "metadata": {},
   "outputs": [],
   "source": [
    "a.get_bns()"
   ]
  },
  {
   "cell_type": "code",
   "execution_count": 11,
   "metadata": {},
   "outputs": [
    {
     "data": {
      "text/plain": [
       "103.41"
      ]
     },
     "execution_count": 11,
     "metadata": {},
     "output_type": "execute_result"
    }
   ],
   "source": [
    "a.get_index()"
   ]
  },
  {
   "cell_type": "code",
   "execution_count": null,
   "metadata": {},
   "outputs": [],
   "source": [
    "a.get_plot()"
   ]
  },
  {
   "cell_type": "code",
   "execution_count": null,
   "metadata": {},
   "outputs": [],
   "source": []
  }
 ],
 "metadata": {
  "kernelspec": {
   "display_name": "Python 3",
   "language": "python",
   "name": "python3"
  },
  "language_info": {
   "codemirror_mode": {
    "name": "ipython",
    "version": 3
   },
   "file_extension": ".py",
   "mimetype": "text/x-python",
   "name": "python",
   "nbconvert_exporter": "python",
   "pygments_lexer": "ipython3",
   "version": "3.7.4"
  }
 },
 "nbformat": 4,
 "nbformat_minor": 2
}
