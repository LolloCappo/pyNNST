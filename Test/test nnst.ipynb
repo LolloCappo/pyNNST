{
 "cells": [
  {
   "cell_type": "code",
   "execution_count": 17,
   "metadata": {},
   "outputs": [],
   "source": [
    "import numpy as np\n",
    "import matplotlib.pyplot as plt\n",
    "\n",
    "class idns:\n",
    "    def __init__(self, signal, nsec, sampling_freq, overlap, confidence):\n",
    "        \"\"\"        \n",
    "        Input class idns:\n",
    "        signal [numpy array] -- Signal to analyze\n",
    "        nsec [float] -- Window length used for the analysis [s]\n",
    "        sampling_freq [float] -- Sampling frequency [Hz]\n",
    "        overlap [float] -- Overlap between windows [0-1]\n",
    "        confidence [int] -- Confidence [90-95-98-99] [%]\n",
    "        Return:\n",
    "        idns.calc() -- Calculation\n",
    "        idns.get_base() -- Get informations about statistics of entire signal\n",
    "        idns.get_run() -- Get informations about run\n",
    "        idns.get_limits() -- Get limits of stationary\n",
    "        idns.get_bns() -- Get outcome of the test\n",
    "        idns.get_index() -- Get the index of non-stationary\n",
    "        idns.get_plot() -- Get the plot of the results\n",
    "        \n",
    "        \"\"\"\n",
    "        self.signal = signal\n",
    "        self.nsec = nsec\n",
    "        self.sampling_freq = sampling_freq\n",
    "        self.overlap = overlap\n",
    "        self.confidence = confidence\n",
    "        \n",
    "        if self.nsec < 2/self.sampling_freq:\n",
    "            print('Error: nsec should be at least twice the inverse of sampling frequency')\n",
    "            return None\n",
    "        \n",
    "    def calc(self):\n",
    "        self.N_pts = len(self.signal)\n",
    "        self.dt = 1/self.sampling_freq            \n",
    "        self.T = self.N_pts * self.dt - self.dt             \n",
    "        self.time = np.linspace(0, self.T, self.N_pts)\n",
    "        self.ent_std = np.std(self.signal, ddof = 1) \n",
    "        self.ent_mean = np.mean(self.signal)        \n",
    "        coeff = [1.645, 1.96, 2.326, 2.576]\n",
    "        conf = [90, 95, 98, 99]\n",
    "        self.alpha = coeff[conf.index(self.confidence)]\n",
    "        self.data_base = {'N_pts':self.N_pts,\n",
    "                          'time':self.time,\n",
    "                          'std':self.ent_std,\n",
    "                          'mean':self.ent_mean,\n",
    "                          'alpha':self.alpha}\n",
    "        \n",
    "        wdw_pts = int(np.floor(self.sampling_freq * self.nsec)) \n",
    "        seg_pts = wdw_pts - int(np.floor(wdw_pts * self.overlap)) \n",
    "        seg = int(np.ceil(self.N_pts / seg_pts))                  \n",
    "        self.seg_time = np.linspace(0,self.T,seg)\n",
    "        res = self.N_pts % seg_pts      \n",
    "        cls = np.array([self.signal[i:i + seg_pts] for i in range(0, self.N_pts-res, seg_pts)])\n",
    "\n",
    "        self.seg_std = np.std(cls, axis=1, ddof=1)\n",
    "\n",
    "        if res != 0:\n",
    "            seg_res = signal[self.N_pts - res:self.N_pts]\n",
    "            if len(seg_res) != 1:\n",
    "                seg_res_std = np.std(seg_res,ddof=1)\n",
    "                self.seg_std = np.append(self.seg_std,seg_res_std)\n",
    "    \n",
    "        cls_std = np.std(self.seg_std, ddof = 1)\n",
    "    \n",
    "        self.boundUP = self.ent_std + cls_std\n",
    "        self.boundDW = self.ent_std - cls_std\n",
    "                \n",
    "        rn = np.empty(seg)\n",
    "        for i in range(0, seg):\n",
    "            if self.seg_std[i] > self.boundUP or self.seg_std[i] < self.boundDW:\n",
    "                rn[i] = 1\n",
    "            else:\n",
    "                rn[i] = 0\n",
    "\n",
    "        N1 = N0 = 0\n",
    "        for i in range(0, seg):\n",
    "            if rn[i] == 1.:\n",
    "                N1 += 1\n",
    "            else:\n",
    "                N0 += 1\n",
    "        \n",
    "        N = N1 + N0\n",
    "        self.Nr = 0\n",
    "\n",
    "        for i in range(1, seg):\n",
    "            if rn[i] != rn[i-1]:\n",
    "                self.Nr += 1\n",
    "        \n",
    "        ## Stationary limits \n",
    "        if N == 0 or N == 1:\n",
    "            print('Error: check window length')\n",
    "            return None \n",
    "        \n",
    "        self.run_mean = (2 * N1 * N0) / N + 1\n",
    "        self.run_var = (2 * N1 * N0 * (2 * N1 * N0 - N)) / (N**2 * (N - 1))\n",
    "        \n",
    "        self.run = {'run': self.Nr, 'run_mean': self.run_mean, 'run_var': self.run_var}\n",
    "        \n",
    "        self.lim_up = self.run_mean + self.alpha * np.sqrt(self.run_var)\n",
    "        self.lim_dw = self.run_mean - self.alpha * np.sqrt(self.run_var)\n",
    "\n",
    "        self.index_up = np.round(100 * self.lim_up / self.run_mean, 2)\n",
    "        self.index_dw = np.round(100 * self.lim_dw / self.run_mean, 2)\n",
    "        \n",
    "        if self.Nr >= self.lim_dw and self.Nr <= self.lim_up:   \n",
    "            self.bns = 'Stationary'\n",
    "        else:\n",
    "            self.bns = 'Non-stationary' \n",
    "            \n",
    "        self.index = np.round( 100 * self.Nr / self.run_mean, 2)\n",
    "        \n",
    "    \n",
    "    def get_base(self):\n",
    "        return self.data_base\n",
    "        \n",
    "    def get_run(self):        \n",
    "        return self.run\n",
    "        \n",
    "    def get_limits(self):\n",
    "        return [self.index_dw, self.index_up]\n",
    "\n",
    "    def get_bns(self):\n",
    "        return self.bns\n",
    "    \n",
    "    def get_index(self):\n",
    "        return self.index\n",
    "    \n",
    "    def get_plot(self):\n",
    "        fig = plt.figure()\n",
    "        ax = fig.add_subplot(1,1,1)\n",
    "        ax.plot(self.time, self.signal, color = 'darkgray', zorder = 1, label = 'Signal')\n",
    "        ax.plot(self.seg_time, self.ent_mean + self.seg_std, color = 'C0', zorder = 2, label = 'Segments STD')\n",
    "        ax.hlines(self.ent_mean + self.ent_std, 0, self.T+self.dt, colors='C1', linestyles='solid', zorder = 3, label = 'STD')\n",
    "        ax.hlines(self.ent_mean + self.boundUP, 0, self.T+self.dt, colors='C3', linestyles='dashed', zorder = 4, label = 'Boundaries')\n",
    "        ax.hlines(self.ent_mean + self.boundDW, 0, self.T+self.dt, colors='C3', linestyles='dashed', zorder = 5)\n",
    "        ax.legend(loc=4)\n",
    "        ax.grid()\n",
    "        ax.set_xlim([0,self.T+self.dt])\n",
    "        ax.set_xlabel('Time [s]')\n",
    "        ax.set_ylabel('Amplitude [\\]')\n",
    "        ax.set_title('Index: '+str(self.index) + '%\\n' + self.bns)\n",
    "        plt.show()"
   ]
  },
  {
   "cell_type": "code",
   "execution_count": 21,
   "metadata": {},
   "outputs": [],
   "source": [
    "filename = 'C:/Users/Lorenzo/Documents/Lubiana/Nnst/Data/matrix.npy'\n",
    "matrix = np.load(filename)\n",
    "matrix_red = np.array(matrix[3,0,:,:,:])\n",
    "\n",
    "(x, y, w, h) = 38, 78, 5, 5 # vert mode area\n",
    "#(x, y, w, h) = 29, 84, 5, 5 # hor mode area\n",
    "\n",
    "cut = matrix_red[:,y:(y+h),x:(x+w)]\n",
    "avg = np.mean(cut, axis = (1,2))"
   ]
  },
  {
   "cell_type": "code",
   "execution_count": 22,
   "metadata": {},
   "outputs": [],
   "source": [
    "signal = avg\n",
    "nsec = 0.7\n",
    "sampling_freq = 400\n",
    "overlap = 0\n",
    "confidence = 95"
   ]
  },
  {
   "cell_type": "code",
   "execution_count": 23,
   "metadata": {},
   "outputs": [
    {
     "data": {
      "text/plain": [
       "(8000,)"
      ]
     },
     "execution_count": 23,
     "metadata": {},
     "output_type": "execute_result"
    }
   ],
   "source": [
    "avg.shape"
   ]
  },
  {
   "cell_type": "code",
   "execution_count": 24,
   "metadata": {},
   "outputs": [
    {
     "name": "stdout",
     "output_type": "stream",
     "text": [
      "[0.01373873 0.01432916 0.0143951  0.01683473 0.0138257  0.00892057\n",
      " 0.00935841 0.01327046 0.00954473 0.00947139 0.00910919 0.01098626\n",
      " 0.00922725 0.00838342 0.00882955 0.0125393  0.00872836 0.01067474\n",
      " 0.00986867 0.00792491 0.01070003 0.01193936 0.01162406 0.01048911\n",
      " 0.01438303 0.01549004 0.00840252 0.01179457 0.01146982]\n"
     ]
    },
    {
     "data": {
      "image/png": "[encoded data removed]",
      "text/plain": [
       "<Figure size 432x288 with 1 Axes>"
      ]
     },
     "metadata": {
      "needs_background": "light"
     },
     "output_type": "display_data"
    }
   ],
   "source": [
    "nnst = idns(signal, nsec, sampling_freq, overlap, confidence)\n",
    "nnst.calc()\n",
    "nnst.get_index()\n",
    "nnst.get_limits()[0]\n",
    "nnst.get_limits()[1]\n",
    "nnst.get_plot()"
   ]
  },
  {
   "cell_type": "code",
   "execution_count": null,
   "metadata": {},
   "outputs": [],
   "source": []
  }
 ],
 "metadata": {
  "kernelspec": {
   "display_name": "Python 3",
   "language": "python",
   "name": "python3"
  },
  "language_info": {
   "codemirror_mode": {
    "name": "ipython",
    "version": 3
   },
   "file_extension": ".py",
   "mimetype": "text/x-python",
   "name": "python",
   "nbconvert_exporter": "python",
   "pygments_lexer": "ipython3",
   "version": "3.7.4"
  }
 },
 "nbformat": 4,
 "nbformat_minor": 2
}
